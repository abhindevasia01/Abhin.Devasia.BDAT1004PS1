{
 "cells": [
  {
   "cell_type": "markdown",
   "id": "693e2c0e-8e11-48c5-bf20-1f847d3ba625",
   "metadata": {},
   "source": [
    "# Problem Set 1"
   ]
  },
  {
   "cell_type": "markdown",
   "id": "2152223f-2583-4005-b5f6-d62216d17f75",
   "metadata": {},
   "source": [
    " remove\n",
    " class Program\n",
    " {\n",
    "     static void Main()\n",
    "     {\n",
    "     }\n",
    " }\n",
    "so they work in jupyter notebook"
   ]
  },
  {
   "cell_type": "markdown",
   "id": "db225f25-a03e-4c8e-a22b-81c6592d5fde",
   "metadata": {},
   "source": [
    "### Question 1 C#:\n",
    "What data type is each of the following?"
   ]
  },
  {
   "cell_type": "markdown",
   "id": "738c962e-6f31-4e02-a707-705570fd5a3f",
   "metadata": {},
   "source": [
    "Q1: 5"
   ]
  },
  {
   "cell_type": "markdown",
   "id": "766d8f1b-d0b4-4ef7-8e23-fafab0f1aa9e",
   "metadata": {},
   "source": [
    "ans: int"
   ]
  },
  {
   "cell_type": "markdown",
   "id": "c52b9f02-e467-489d-ac48-08be01a5fb00",
   "metadata": {},
   "source": [
    "Q2. 5.0"
   ]
  },
  {
   "cell_type": "markdown",
   "id": "f0c2a3f0-e83b-424c-8cfa-d877a49eb4cb",
   "metadata": {},
   "source": [
    "ans: float"
   ]
  },
  {
   "cell_type": "markdown",
   "id": "dd2b6c59-ed96-4931-ba7c-1eea89c011dd",
   "metadata": {},
   "source": [
    "Q3. 5>1"
   ]
  },
  {
   "cell_type": "markdown",
   "id": "979ce5a8-7bae-443b-ad7c-073047c7880f",
   "metadata": {},
   "source": [
    "ans: bool"
   ]
  },
  {
   "cell_type": "markdown",
   "id": "9b62e5a9-acd8-4b07-938f-137283a07b64",
   "metadata": {},
   "source": [
    "Q4. '5'"
   ]
  },
  {
   "cell_type": "markdown",
   "id": "5396d4a1-3e73-405d-b557-e0ffe7af5c85",
   "metadata": {},
   "source": [
    "ans: char"
   ]
  },
  {
   "cell_type": "markdown",
   "id": "62ac8774-3688-4418-9a5f-04ae7756a201",
   "metadata": {},
   "source": [
    "Q5. 5 * 2 "
   ]
  },
  {
   "cell_type": "markdown",
   "id": "08e4b674-97af-4489-9c55-d4036f8dd0b0",
   "metadata": {},
   "source": [
    "ans: int"
   ]
  },
  {
   "cell_type": "markdown",
   "id": "1c7ca827-e778-41ce-b3fe-7dc8333ed9e0",
   "metadata": {},
   "source": [
    "Q6. '5' * 2"
   ]
  },
  {
   "cell_type": "markdown",
   "id": "b0e35611-428d-40b5-b080-bf19a4f2a056",
   "metadata": {},
   "source": [
    "ans: error"
   ]
  },
  {
   "cell_type": "markdown",
   "id": "7ce7b2f4-2265-406f-9580-dac75e94b206",
   "metadata": {},
   "source": [
    "Q7. '5' + '2'"
   ]
  },
  {
   "cell_type": "markdown",
   "id": "f4cd4e40-3944-4c3e-9198-e64c301e1550",
   "metadata": {},
   "source": [
    "ans: char"
   ]
  },
  {
   "cell_type": "markdown",
   "id": "a5fc61c2-9b28-4f7d-93e0-c4fe42564295",
   "metadata": {},
   "source": [
    "Q8. 5/2"
   ]
  },
  {
   "cell_type": "markdown",
   "id": "5bc6a8e6-f799-4165-8179-f3000e961b55",
   "metadata": {},
   "source": [
    "ans: double"
   ]
  },
  {
   "cell_type": "markdown",
   "id": "19145d80-b594-4e4b-b48e-70869f6b3acd",
   "metadata": {},
   "source": [
    "Q9. 5 % 2"
   ]
  },
  {
   "cell_type": "markdown",
   "id": "08a59744-4ca1-4e86-bf94-cf4cbf595018",
   "metadata": {},
   "source": [
    "ans: int\n"
   ]
  },
  {
   "cell_type": "markdown",
   "id": "aeeeeb53-b84d-4a38-8bc8-b5723b4a8b3a",
   "metadata": {},
   "source": [
    "Q10. \n",
    "{5, 2, 1}"
   ]
  },
  {
   "cell_type": "markdown",
   "id": "6e73f7b8-cf4c-4daf-8198-094c883da9d2",
   "metadata": {},
   "source": [
    "ans: int[]"
   ]
  },
  {
   "cell_type": "markdown",
   "id": "4d97b3e2-93bc-4854-be24-ad399e27b475",
   "metadata": {},
   "source": [
    "Q.11 5==2"
   ]
  },
  {
   "cell_type": "markdown",
   "id": "9c1814e7-96df-4754-8e8f-639104118bf2",
   "metadata": {},
   "source": [
    "ans: bool"
   ]
  },
  {
   "cell_type": "markdown",
   "id": "c72f50bc-d1e4-4260-8f58-ff89946dcfb5",
   "metadata": {},
   "source": [
    "Q12. pi (the number)"
   ]
  },
  {
   "cell_type": "markdown",
   "id": "04655e77-d4fb-4290-9871-5fed8ec5e34a",
   "metadata": {},
   "source": [
    "ans: double"
   ]
  },
  {
   "cell_type": "markdown",
   "id": "cf6a56ce-9671-4dc7-89ee-a820d24eeb09",
   "metadata": {},
   "source": [
    "### Question 2 C#: \n",
    "Write (and evaluate) C# expressions that answer these questions:"
   ]
  },
  {
   "cell_type": "markdown",
   "id": "31c3ab2d-1e6c-49da-a53c-3fff814e0c7e",
   "metadata": {},
   "source": [
    "a. How many letters are there in 'Supercalifragilisticexpialidocious'?"
   ]
  },
  {
   "cell_type": "code",
   "execution_count": 42,
   "id": "1a732803-4a97-4a02-bbc8-9ab20253b03e",
   "metadata": {},
   "outputs": [
    {
     "name": "stderr",
     "output_type": "stream",
     "text": [
      "\n",
      "(4,17): warning CS7022: The entry point of the program is global code; ignoring 'Program.Main()' entry point.\n",
      "\n"
     ]
    }
   ],
   "source": [
    "using System;\n",
    "class Program\n",
    "{\n",
    "    static void Main()\n",
    "    {\n",
    "        string word = \"Supercalifragilisticexpialidocious\";\n",
    "        int count = word.Length;\n",
    "        Console.WriteLine(count);\n",
    "    }\n",
    "}\n",
    "//op: 34"
   ]
  },
  {
   "cell_type": "markdown",
   "id": "6961849c-95dd-432d-b467-61c67bd0a516",
   "metadata": {},
   "source": [
    "b. Does 'Supercalifragilisticexpialidocious' contain 'ice' as a substring?"
   ]
  },
  {
   "cell_type": "code",
   "execution_count": 34,
   "id": "218a99ab-4a37-4a05-88cf-40e3ffb36748",
   "metadata": {},
   "outputs": [
    {
     "name": "stderr",
     "output_type": "stream",
     "text": [
      "\n",
      "(4,17): warning CS7022: The entry point of the program is global code; ignoring 'Program.Main()' entry point.\n",
      "\n"
     ]
    }
   ],
   "source": [
    "using System;\n",
    "class Program\n",
    "{\n",
    "    static void Main()\n",
    "    {\n",
    "        string mword = \"Supercalifragilisticexpialidocious\"; \n",
    "        string sword = \"ice\"; \n",
    "        \n",
    "        if (mword.Contains(sword))\n",
    "        {\n",
    "            Console.WriteLine(\"the word is contained in the big word\");\n",
    "        }\n",
    "        \n",
    "        else\n",
    "        {\n",
    "            Console.WriteLine(\"the word is not contained in the big word\");\n",
    "        }\n",
    "    }\n",
    "}\n",
    "//op: the word is contained in the big word"
   ]
  },
  {
   "cell_type": "markdown",
   "id": "94236679-c6e9-491e-8cc4-5295c76212c7",
   "metadata": {},
   "source": [
    "c. Which of the following words is the longest: \n",
    "Supercalifragilisticexpialidocious, Honorificabilitudinitatibus, or\r\n",
    "Bababadalgharaghtakamminarronnkonn?"
   ]
  },
  {
   "cell_type": "code",
   "execution_count": 146,
   "id": "cf195986-983d-4f44-8141-eb79b43e5dd5",
   "metadata": {},
   "outputs": [
    {
     "name": "stdout",
     "output_type": "stream",
     "text": [
      "Supercalifragilisticexpialidocious is the longest\n"
     ]
    }
   ],
   "source": [
    "using System;\n",
    "class Program\n",
    "{\n",
    "    static void Main()\n",
    "    {\n",
    "        string word1 = \"Supercalifragilisticexpialidocious\";\n",
    "        string word2 = \"Honorificabilitudinitatibus\";\n",
    "        string word3 = \"Bababadalgharaghtakamminarronnkonn\";\n",
    "        \n",
    "        int lword1 = word1.Length;\n",
    "        int lword2 = word2.Length;\n",
    "        int lword3 = word3.Length;\n",
    "        if (lword1 >= lword2 && lword1 >= lword3)\n",
    "        {\n",
    "            Console.WriteLine(word1 + \" is the longest\");\n",
    "        }\n",
    "        else if (lword2 >= lword1 && lword2 >= lword3)\n",
    "        {\n",
    "            Console.WriteLine(word2 + \" is the longest\");\n",
    "        }\n",
    "        else\n",
    "        {\n",
    "            Console.WriteLine(word3 + \" is the longest\");\n",
    "        }\n",
    "    }\n",
    "}\n",
    "//op: Supercalifragilisticexpialidocious is the longest"
   ]
  },
  {
   "cell_type": "markdown",
   "id": "86810b1e-7cf9-4996-a0f3-7d4f822ab1ac",
   "metadata": {},
   "source": [
    "d. Which composer comes first in the dictionary: 'Berlioz', 'Borodin', 'Brian', \r\n",
    "'Bartok', 'Bellini', 'Buxtehude', 'Bernstein'. Which one comes last?"
   ]
  },
  {
   "cell_type": "code",
   "execution_count": 22,
   "id": "f9e17ea3-eab5-4499-b2a3-6c58926eba9d",
   "metadata": {},
   "outputs": [
    {
     "name": "stderr",
     "output_type": "stream",
     "text": [
      "\n",
      "(4,17): warning CS7022: The entry point of the program is global code; ignoring 'Program.Main()' entry point.\n",
      "\n"
     ]
    }
   ],
   "source": [
    "using System;\n",
    "class Program\n",
    "{\n",
    "    static void Main()\n",
    "    {\n",
    "        string word1=\"Berlioz\";\n",
    "        string word2=\"Borodin\";\n",
    "        string word3=\"Brian\";\n",
    "        string word4=\"Bartok\";\n",
    "        string word5=\"Bellini\";\n",
    "        string word6=\"Buxtehude\";\n",
    "        string word7=\"Bernstein\";\n",
    "        string[] wordlist= {word1, word2, word3, word4, word5, word6, word7};\n",
    "        Array.Sort(wordlist);\n",
    "        Console.WriteLine(wordlist[0] +\"is the first word in the dictionary\");\n",
    "        Console.WriteLine(wordlist[wordlist.Length-1] +\"is the last word in the dictionary\");\n",
    "    }\n",
    "}\n",
    "\n",
    "//op: Bartokis the first word in the dictionary\n",
    "//Buxtehudeis the last word in the dictionary\n"
   ]
  },
  {
   "cell_type": "markdown",
   "id": "660a0137-844f-47e7-aea8-65bbbb336aae",
   "metadata": {},
   "source": [
    "### Question 3 C#"
   ]
  },
  {
   "cell_type": "markdown",
   "id": "f980452b-b69a-4d08-97ef-fecb1ead97b8",
   "metadata": {},
   "source": [
    "Q. Implement function triangleArea(a,b,c) that takes as input the lengths of the 3 \r\n",
    "sides of a triangle and returns the area of the triangle.\n",
    " By Heron's formula, the area \r\n",
    "of a triangle with side lengths a, b, and c is s(s − a)(s −b)(s −c), where\r\n",
    "s = (a + b + c)/2."
   ]
  },
  {
   "cell_type": "code",
   "execution_count": 24,
   "id": "274fbf92-8680-47ea-a333-5ad1c094c168",
   "metadata": {},
   "outputs": [
    {
     "name": "stderr",
     "output_type": "stream",
     "text": [
      "\n",
      "(5,17): warning CS7022: The entry point of the program is global code; ignoring 'Program.Main()' entry point.\n",
      "\n"
     ]
    }
   ],
   "source": [
    "using System;\n",
    "\n",
    "class Program\n",
    "{\n",
    "    static void Main()\n",
    "    {\n",
    "        double triangleArea(double a, double b, double c)\n",
    "        {\n",
    "        \n",
    "            double s = (a + b + c) / 2;\n",
    "            return Math.Sqrt(s * (s - a) * (s - b) * (s - c));\n",
    "        }\n",
    "        double area1 = triangleArea(2, 2, 2);\n",
    "        Console.WriteLine($\"Area of triangle is: {area1}\"); \n",
    "            }\n",
    "}\n",
    "\n",
    "//Op: Area of triangle is: 1.7320508075688772"
   ]
  },
  {
   "cell_type": "markdown",
   "id": "0aeabd4f-5b51-4e33-89eb-ba9c32810242",
   "metadata": {},
   "source": [
    "## Question 4 C#"
   ]
  },
  {
   "cell_type": "markdown",
   "id": "142678ab-ea56-42a9-beb0-cbe1aa3784ea",
   "metadata": {},
   "source": [
    "Write a program in C# Sharp to separate odd and even integers in separate arrays. \r\n",
    "Go to the editor\r\n",
    "Test Data :\r\n",
    "Input the number of elements to be stored in the array :5 \r\n",
    "Input 5 elements in the array :\r\n",
    "element - 0 : 25\r\n",
    "element - 1 : 47\r\n",
    "element - 2 : 42\r\n",
    "element - 3 : 56\r\n",
    "element - 4 : 32 \r\n",
    "Expected Output:\r\n",
    "The Even elements are: \r\n",
    "42 56 32\r\n",
    "The Odd elents are : \r\n",
    "B\r\n",
    "25 47"
   ]
  },
  {
   "cell_type": "code",
   "execution_count": 12,
   "id": "5ddbd150-55a6-49c6-b2cc-117c794a7c4e",
   "metadata": {},
   "outputs": [
    {
     "name": "stderr",
     "output_type": "stream",
     "text": [
      "\n",
      "(5,17): warning CS7022: The entry point of the program is global code; ignoring 'Program.Main()' entry point.\n",
      "\n"
     ]
    }
   ],
   "source": [
    "using System;\n",
    "\n",
    "class Program\n",
    "{\n",
    "    static void Main()\n",
    "    {\n",
    "         Console.Write(\"Input the number of elements to be stored in the array: \");\n",
    "        int num = int.Parse(Console.ReadLine());\n",
    "\n",
    "        int[] arr = new int[num];\n",
    "        int[] evenArr = new int[num];\n",
    "        int[] oddArr = new int[num];\n",
    "        int evenCount = 0, oddCount = 0;\n",
    "        Console.WriteLine(\"Input {0} elements in the array:\", num);\n",
    "        for (int i = 0; i < num; i=i+1)\n",
    "        {\n",
    "            Console.Write(\"element - {0} : \", i);\n",
    "            arr[i] = int.Parse(Console.ReadLine());\n",
    "            if (arr[i] % 2 == 0)\n",
    "            {\n",
    "                evenArr[evenCount] = arr[i];\n",
    "                evenCount++;\n",
    "            }\n",
    "            else\n",
    "            {\n",
    "                oddArr[oddCount] = arr[i];\n",
    "                oddCount++;\n",
    "            }\n",
    "        }\n",
    "        Console.Write(\"The Even elements are: \");\n",
    "        for (int i = 0; i < evenCount; i++)\n",
    "        {\n",
    "            Console.Write(evenArr[i] + \" \");\n",
    "        }\n",
    "        Console.Write(\"\\nThe Odd elements are: \");\n",
    "        for (int i = 0; i < oddCount; i++)\n",
    "        {\n",
    "            Console.Write(oddArr[i] + \" \");\n",
    "        }\n",
    "    }\n",
    "}\n",
    "//https://stackoverflow.com/questions/24443827/reading-an-integer-from-user-input#:~:text=This%20example%20shows%20how%20to%20get%20an%20integer%20value%20from\n",
    "/*op:mono /tmp/Ld1e5wzoQ3.exe\n",
    "Input the number of elements to be stored in the array: 5\n",
    "Input 5 elements in the array:\n",
    "element - 0 : 25\n",
    "element - 1 : 47\n",
    "element - 2 : 42\n",
    "element - 3 : 566\n",
    "element - 4 : 32\n",
    "The Even elements are: 42 56 32 \n",
    "The Odd elements are: 25 47 \n",
    "=== Code Execution Successful ===\n",
    "*/"
   ]
  },
  {
   "cell_type": "markdown",
   "id": "c62ccc05-bc83-4235-96c6-789f08d29b07",
   "metadata": {},
   "source": [
    "# Question 5 C#"
   ]
  },
  {
   "cell_type": "markdown",
   "id": "c2161bdc-9f5b-43f0-9386-08148b8c5317",
   "metadata": {},
   "source": [
    "### a. Write a function inside(x,y,x1,y1,x2,y2) that returns True or False \n",
    "depending on whether the point (x,y) lies in the rectangle with lower lef \r\n",
    "corner (x1,y1) and upper right corner (x2,y2)\n",
    " inside(1,1,0,0,  > inside(-1,-1,0, ,2,3e)\r\n",
    "Feals"
   ]
  },
  {
   "cell_type": "code",
   "execution_count": 65,
   "id": "3f8e6c85-8108-43f4-b615-bda28a15a66e",
   "metadata": {},
   "outputs": [
    {
     "name": "stderr",
     "output_type": "stream",
     "text": [
      "\n",
      "(12,27): error CS0103: The name 'Inside' does not exist in the current context\n",
      "\n"
     ]
    },
    {
     "ename": "Error",
     "evalue": "compilation error",
     "output_type": "error",
     "traceback": []
    }
   ],
   "source": [
    "using System;\n",
    "\n",
    "class Program\n",
    "{\n",
    "    static bool inside(int x, int y, int x1, int y1, int x2, int y2)\n",
    "    {\n",
    "        return (x >= x1 && x <= x2) && (y >= y1 && y <= y2);\n",
    "    }\n",
    "    static void Main()\n",
    "    {\n",
    "        Console.WriteLine(inside(1, 1, 0, 0, 2, 3));\n",
    "        Console.WriteLine(Inside(-1, -1, 0, 0, 2, 3));\n",
    "    }\n",
    "}\n",
    "//https://stackoverflow.com/questions/41366373/how-do-i-correctly-use-a-bool-with-an-if-statement#:~:text=The%20bool%20is%20%22hidden%22%20behind%20a%20nullable%20object,%20so%20you\n",
    "// op: True\n",
    "// False"
   ]
  },
  {
   "cell_type": "markdown",
   "id": "452dd243-efe9-4816-9b86-d4045c034232",
   "metadata": {},
   "source": [
    "### b. Use function inside() from part a. to write an expression that tests whether \n",
    "the point (1,1) lies in both of the following rectangles: one with lower lef \r\n",
    "corner (0.3, 0.5) and upper right corner (1.1, 0.7) and the other with low r\r\n",
    "left corner (0.5, 0.2) and upper right corner (1.1,. 2)"
   ]
  },
  {
   "cell_type": "code",
   "execution_count": 63,
   "id": "d5f3ed46-22ce-41e9-9f92-e2f117e2abee",
   "metadata": {},
   "outputs": [
    {
     "name": "stderr",
     "output_type": "stream",
     "text": [
      "\n",
      "(8,17): warning CS7022: The entry point of the program is global code; ignoring 'Program.Main()' entry point.\n",
      "\n"
     ]
    }
   ],
   "source": [
    "using System;\n",
    "class Program\n",
    "{\n",
    "    static bool inside(double x, double y, double x1, double y1, double x2, double y2)\n",
    "    {\n",
    "        return (x >= x1 && x <= x2) && (y >= y1 && y <= y2);\n",
    "    }\n",
    "    static void Main()\n",
    "    {\n",
    "        double xc = 1.0, yc = 1.0;\n",
    "        bool first_rect = inside(xc, yc, 0.3, 0.5, 1.1, 0.7);\n",
    "        bool second_rect = inside(xc, yc, 0.5, 0.2, 1.1, 2.0);\n",
    "        bool inside_both = first_rect && second_rect;\n",
    "        Console.WriteLine(\"The statement that the point (1, 1) is inside both rectangles is \" + inside_both);\n",
    "    }\n",
    "}\n",
    "\n",
    "//op:  The statement that the point (1, 1) is inside both rectangles is False"
   ]
  },
  {
   "cell_type": "markdown",
   "id": "15370058-de6b-4fcf-afa8-da915abb7dfe",
   "metadata": {},
   "source": [
    "# Question 6 Python"
   ]
  },
  {
   "cell_type": "markdown",
   "id": "83b9470f-6533-4635-9bce-4aa9314e9845",
   "metadata": {},
   "source": [
    "## 16. You can turn a word into pig-Latin using the following two rules (simplified):\n",
    "• If the word starts with a consonant, move that letter to the end and append\n",
    "'ay'. For example, 'happy' becomes 'appyhay' and 'pencil' becomes 'encilpay'.\n",
    "• If the word starts with a vowel, simply append 'way' to the end of the word.\n",
    "For example, 'enter' becomes 'enterway' and 'other' becomes 'otherway' . For\n",
    "our purposes, there are 5 vowels: a, e, i, o, u (so we count y as a consonant).\n",
    "Write a function pig() that takes a word (i.e., a string) as input and returns its pig-\n",
    "Latin form. Your function should still work if the input word contains upper case\n",
    "characters. Your output should always be lower case however.\n",
    "pig('happy')\n",
    "'appyhay'\n",
    "pig('Enter')\n",
    "'enterway'"
   ]
  },
  {
   "cell_type": "code",
   "execution_count": 43,
   "id": "7c01a766-bccf-4260-aa5e-fb9e48aefbbb",
   "metadata": {},
   "outputs": [
    {
     "data": {
      "text/plain": [
       "'appyhay'"
      ]
     },
     "execution_count": 43,
     "metadata": {},
     "output_type": "execute_result"
    }
   ],
   "source": [
    "#!/usr/bin/env python3\n",
    "def pig(name):\n",
    "    name=name.lower()\n",
    "    if (name[0] in ['a','e','i','o','u']):\n",
    "        op=name+'way'\n",
    "        return op\n",
    "    else:\n",
    "        op=name[1:]+name[0]+'ay'\n",
    "        return op\n",
    "    \n",
    "pig(\"happy\")\n",
    "\n",
    "\n",
    "#op: enterway\n",
    "#op: appyhay"
   ]
  },
  {
   "cell_type": "markdown",
   "id": "65649d9c-fa98-4ad8-b5eb-d235064462d1",
   "metadata": {},
   "source": [
    "# Question 7 Python"
   ]
  },
  {
   "cell_type": "markdown",
   "id": "584dd8e8-12b7-48b4-ba25-67310ccf4b00",
   "metadata": {},
   "source": [
    "### Q. File bloodtype1.txt records blood-types of patients (A, B, AB, O or OO) at a clinic.  Write a function bldcount() that reads the file with name name and reports (i.e., prints) how many patients there are in each bloodtype.\n",
    ">>> bldcount('bloodtype.txt')\n",
    "There are 10 patients of blood type A. \n",
    "There is one patient of blood type B. \n",
    "There are 10 patients of blood type AB. \n",
    "There are 12 patients of blood type O. \n",
    "There are no patients of blood type OO."
   ]
  },
  {
   "cell_type": "code",
   "execution_count": 107,
   "id": "7be0b765-2be9-4357-a4ae-126ade4d35df",
   "metadata": {
    "scrolled": true
   },
   "outputs": [
    {
     "name": "stdout",
     "output_type": "stream",
     "text": [
      "there are 13 patients from blood group AB\n",
      "there are 15 patients from blood group A\n",
      "there are 1 patients from blood group B\n",
      "there are 14 patients from blood group O\n",
      "there are no patients from blood group O\n"
     ]
    },
    {
     "data": {
      "text/plain": [
       "' \\nthere are 13 patients from blood group AB\\nthere are 15 patients from blood group A\\nthere are 1 patients from blood group B\\nthere are 14 patients from blood group O\\nthere are no patients from blood group O\\n'"
      ]
     },
     "execution_count": 107,
     "metadata": {},
     "output_type": "execute_result"
    }
   ],
   "source": [
    "#!/usr/bin/env python3\n",
    "def bldcount(path_to_file):\n",
    "    with open(path_to_file, 'r') as file:\n",
    "        blood_type=file.read().split()\n",
    "        ab=0\n",
    "        a=0\n",
    "        b=0\n",
    "        o=0\n",
    "        oo=0\n",
    "        for i in range (len(blood_type)-1):\n",
    "            if (blood_type[i]=='AB'):\n",
    "                ab=ab+1\n",
    "            elif (blood_type[i]=='A'):\n",
    "                a=a+1\n",
    "            elif (blood_type[i]=='B'):\n",
    "                b=b+1\n",
    "            elif (blood_type[i]=='O'):\n",
    "                o=o+1\n",
    "            elif (blood_type[i]=='OO'):\n",
    "                oo=oo+1\n",
    "    print(f\"there are {ab} patients from blood group AB\")\n",
    "    print(f\"there are {a} patients from blood group A\")\n",
    "    print(f\"there are {b} patients from blood group B\")\n",
    "    print(f\"there are {o} patients from blood group O\")\n",
    "    if oo>0:\n",
    "        print(f\"there are {oo} patients from blood group OO\")\n",
    "    else:\n",
    "        print(f\"there are no patients from blood group O\")\n",
    "bldcount(\"bloodtype1.txt\")\n",
    "''' \n",
    "there are 13 patients from blood group AB\n",
    "there are 15 patients from blood group A\n",
    "there are 1 patients from blood group B\n",
    "there are 14 patients from blood group O\n",
    "there are no patients from blood group O\n",
    "'''"
   ]
  },
  {
   "cell_type": "markdown",
   "id": "bae86c44-4ed7-4d09-aa51-c44a048f3c62",
   "metadata": {},
   "source": [
    "# Question 8 Python"
   ]
  },
  {
   "cell_type": "markdown",
   "id": "e319a212-887f-4384-ba7b-bcd33cfb1369",
   "metadata": {},
   "source": [
    "### Write a function curconv() that takes as input:  a currency represented using a string (e.g., 'JPY' for the Japanese Yen or \r\n",
    "'EUR' for the Eur 2. an amo nt\r\n",
    "and then converts and returns the amount in US dol1.241401"
   ]
  },
  {
   "cell_type": "code",
   "execution_count": 107,
   "id": "fecf5e96-f1d8-41e4-97c7-b8f76990d6ca",
   "metadata": {},
   "outputs": [
    {
     "name": "stdout",
     "output_type": "stream",
     "text": [
      "122.96544\n",
      "1.241401\n"
     ]
    },
    {
     "data": {
      "text/plain": [
       "\"\\nop:\\n>>>curconv('eur',100)\\n122.96544\\n>>>curconv('JPY',100)\\n1.241401\\n\""
      ]
     },
     "execution_count": 107,
     "metadata": {},
     "output_type": "execute_result"
    }
   ],
   "source": [
    "#!/usr/bin/env python3\n",
    "def  curconv(cur,amt):\n",
    "    with open(\"currencies.txt\", 'r') as file:\n",
    "        ccv=file.read().splitlines()\n",
    "        for i in ccv:\n",
    "            cur_list=i.split('\\t')\n",
    "            cur_dict[cur_list[0]]=cur_list[1]\n",
    "            conv=float(cur_dict[cur.upper()])*float(amt)\n",
    "           # return conv\n",
    "    print(conv)\n",
    "curconv('eur',100)\n",
    "curconv('JPY',100)    \n",
    "'''\n",
    "op:\n",
    ">>>curconv('eur',100)\n",
    "122.96544\n",
    ">>>curconv('JPY',100)\n",
    "1.241401\n",
    "'''"
   ]
  },
  {
   "cell_type": "markdown",
   "id": "3bbff099-8aaf-4d6b-ac26-d3364d2fa402",
   "metadata": {},
   "source": [
    "# Question 9 Python"
   ]
  },
  {
   "cell_type": "markdown",
   "id": "d29a40e6-c87a-4008-a51b-bb1b1fdcb71b",
   "metadata": {},
   "source": [
    "### Each of the following will cause an exception (an error). Identify what type of \n",
    "exception each will cause\n",
    "t\r\n",
    "udi\r\n",
    "0e\r\n",
    "s 04\r\n",
    "Trying to add incompatible variables, as in \r\n",
    "adding 6 + ‘a’\r\n",
    "Referring to the 12th item of a list that has only 10 \r\n",
    "items\r\n",
    "Using a value that is out ofrange for a function’s \r\n",
    "input, such as calling math.sqrt(-1.0)\r\n",
    "Using an undeclared variable, such as print(x)\r\n",
    "when x has not been defined\r\n",
    "Trying to open a file that does not exist, such as \r\n",
    "mistyping the file name or looking in the wrong \r\n",
    "directory"
   ]
  },
  {
   "cell_type": "code",
   "execution_count": 279,
   "id": "d772d5c4-63c3-44b6-974f-c810d9e64859",
   "metadata": {},
   "outputs": [
    {
     "ename": "TypeError",
     "evalue": "unsupported operand type(s) for +: 'int' and 'str'",
     "output_type": "error",
     "traceback": [
      "\u001b[1;31m---------------------------------------------------------------------------\u001b[0m",
      "\u001b[1;31mTypeError\u001b[0m                                 Traceback (most recent call last)",
      "Cell \u001b[1;32mIn[279], line 3\u001b[0m\n\u001b[0;32m      1\u001b[0m \u001b[38;5;66;03m#1\u001b[39;00m\n\u001b[0;32m      2\u001b[0m \u001b[38;5;28;01mimport\u001b[39;00m \u001b[38;5;21;01mmath\u001b[39;00m\n\u001b[1;32m----> 3\u001b[0m \u001b[38;5;241m6\u001b[39m \u001b[38;5;241m+\u001b[39m \u001b[38;5;124m'\u001b[39m\u001b[38;5;124ma\u001b[39m\u001b[38;5;124m'\u001b[39m\n\u001b[0;32m      4\u001b[0m \u001b[38;5;66;03m# op: TypeError: unsupported operand type(s) for +: 'int' and 'str'\u001b[39;00m\n\u001b[0;32m      5\u001b[0m \n\u001b[0;32m      6\u001b[0m \u001b[38;5;66;03m#2\u001b[39;00m\n\u001b[0;32m      7\u001b[0m l1\u001b[38;5;241m=\u001b[39m[\u001b[38;5;241m1\u001b[39m]\u001b[38;5;241m*\u001b[39m\u001b[38;5;241m10\u001b[39m\n",
      "\u001b[1;31mTypeError\u001b[0m: unsupported operand type(s) for +: 'int' and 'str'"
     ]
    }
   ],
   "source": [
    "#1\n",
    "import math\n",
    "6 + 'a'\n",
    "# op: TypeError: unsupported operand type(s) for +: 'int' and 'str'\n",
    "\n",
    "#2\n",
    "l1=[1]*10\n",
    "l1[12]\n",
    "#op: IndexError, List index out of range\n",
    "\n",
    "#3\n",
    "math.sqrt(-1.0)\n",
    "#op: ValueError: math domain error\n",
    "\n",
    "#4\n",
    "print(x)\n",
    "#op: NameError: name 'x' is not defined\n",
    "\n",
    "#5\n",
    "with open('abc.txt','r') as file:\n",
    "    lines=file.read()\n",
    "\n",
    "#op: FileNotFoundError: No such file or directory: 'abc.txt'"
   ]
  },
  {
   "cell_type": "markdown",
   "id": "ef95213b-176b-4a7b-9179-7b204ef0901b",
   "metadata": {},
   "source": [
    "# Question 10 Python"
   ]
  },
  {
   "cell_type": "markdown",
   "id": "758d6b77-77aa-4296-b8bf-b653192c8f68",
   "metadata": {},
   "source": [
    "### \n",
    "Encryption is the process of hiding the meaning of a text by substituting letters in the\r\n",
    "message with other letters, according to some system. If the process is successful, n \r\n",
    "one but the intended recipient can understand the encrypted message. Cryptanalyss \r\n",
    "refers to attempts to undo the encryption, even if some details of the encryption re \r\n",
    "unknown (for example, if an encrypted message has been intercepted). The first tep \r\n",
    "of cryptanalysis is often to build up a table of letter frequencies in the encrypted ext. \r\n",
    "Assume that the string letters is already defied as \r\n",
    "'abcdefghijklmnopqrstuvwxyz'. Write a function called frequecies() \r\n",
    "that takes a string as its only parameter, and returns a list of integers, shoing the \r\n",
    "number of times each character appears in the text. Your function may inore any \r\n",
    "characters that are not i\n",
    "t\r\n",
    "e\r\n",
    "r\r\n",
    "1\r\n",
    "S\r\n",
    "t\r\n",
    "udi\r\n",
    "0e\r\n",
    "s 0"
   ]
  },
  {
   "cell_type": "code",
   "execution_count": 233,
   "id": "ee8ca05c-adfb-4922-bb5f-cb6f72687041",
   "metadata": {},
   "outputs": [
    {
     "name": "stdout",
     "output_type": "stream",
     "text": [
      "[1, 1, 1, 3, 5, 1, 1, 2, 1, 0, 1, 0, 1, 2, 4, 0, 1, 2, 0, 3, 1, 0, 1, 1, 0, 0]\n",
      "[1, 0, 0, 0, 1, 0, 0, 0, 0, 0, 0, 1, 0, 0, 0, 2, 0, 0, 0, 0, 0, 0, 0, 0, 0, 0]\n"
     ]
    },
    {
     "data": {
      "text/plain": [
       "'\\nop:\\n[1, 1, 1, 3, 5, 1, 1, 2, 1, 0, 1, 0, 1, 2, 4, 0, 1, 2, 0, 3, 1, 0, 1, 1, 0, 0]\\n[1, 0, 0, 0, 1, 0, 0, 0, 0, 0, 0, 1, 0, 0, 0, 2, 0, 0, 0, 0, 0, 0, 0, 0, 0, 0]\\n'"
      ]
     },
     "execution_count": 233,
     "metadata": {},
     "output_type": "execute_result"
    }
   ],
   "source": [
    "def frequencies(entry):\n",
    "    entry=entry.lower()\n",
    "    letters='abcdefghijklmnopqrstuvwxyz'\n",
    "    pos_list=[0]*26\n",
    "    for item in entry:\n",
    "        if item in letters:\n",
    "            index_in_list=letters.index(item)\n",
    "            pos_list[index_in_list]=pos_list[index_in_list]+1\n",
    "    print(pos_list)\n",
    "frequencies('The quick red fox got bored and went home.')\n",
    "frequencies('apple')\n",
    "'''\n",
    "op:\n",
    "[1, 1, 1, 3, 5, 1, 1, 2, 1, 0, 1, 0, 1, 2, 4, 0, 1, 2, 0, 3, 1, 0, 1, 1, 0, 0]\n",
    "[1, 0, 0, 0, 1, 0, 0, 0, 0, 0, 0, 1, 0, 0, 0, 2, 0, 0, 0, 0, 0, 0, 0, 0, 0, 0]\n",
    "'''"
   ]
  },
  {
   "cell_type": "code",
   "execution_count": null,
   "id": "c7417bca-3385-4dd4-911d-0402cdb6c3fa",
   "metadata": {},
   "outputs": [],
   "source": []
  }
 ],
 "metadata": {
  "kernelspec": {
   "display_name": "Python 3 (ipykernel)",
   "language": "python",
   "name": "python3"
  },
  "language_info": {
   "codemirror_mode": {
    "name": "ipython",
    "version": 3
   },
   "file_extension": ".py",
   "mimetype": "text/x-python",
   "name": "python",
   "nbconvert_exporter": "python",
   "pygments_lexer": "ipython3",
   "version": "3.12.4"
  }
 },
 "nbformat": 4,
 "nbformat_minor": 5
}
